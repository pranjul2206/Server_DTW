{
 "cells": [
  {
   "cell_type": "code",
   "execution_count": 44,
   "metadata": {},
   "outputs": [],
   "source": [
    "import numpy as np\n",
    "from fastdtw import fastdtw\n",
    "from sklearn.base import BaseEstimator, ClassifierMixin\n",
    "import pickle"
   ]
  },
  {
   "cell_type": "code",
   "execution_count": 45,
   "metadata": {},
   "outputs": [],
   "source": [
    "class KnnDtwClassifier(BaseEstimator, ClassifierMixin):\n",
    "    \"\"\"pehle DTW laga kr distance nikaal re\n",
    "    fir dekhre ki konsa sbse paas hai using k nearest neighbour\n",
    "    mai personally 3 nearest neighbour nikaal kr usme nearest na dekh k majority pick kr raha\n",
    "    fastdtw use kar re kyuki??? obviously wo fast hai isliye...\n",
    "    pip install fastdtw\n",
    "    or if we dont want fast then\n",
    "    pip install dtw-python\n",
    "    \"\"\"\n",
    "    def __init__(self, n_neighbors=1):\n",
    "        self.n_neighbors = n_neighbors\n",
    "        self.features = []\n",
    "        self.labels = []\n",
    "\n",
    "    def get_distance(self, x, y):\n",
    "        return fastdtw(x, y)[0]\n",
    "\n",
    "    def fit(self, X, y=None):\n",
    "        for index, l in enumerate(y):\n",
    "            self.features.append(X[index])\n",
    "            self.labels.append(l)\n",
    "        return self\n",
    "\n",
    "    def predict(self, X):\n",
    "        dist = np.array([self.get_distance(X, seq) for seq in self.features])\n",
    "        indices = dist.argsort()[:self.n_neighbors]\n",
    "        return np.array(self.labels)[indices]\n",
    "\n",
    "    def predict_ext(self, X):\n",
    "        dist = np.array([self.get_distance(X, seq) for seq in self.features])\n",
    "        indices = dist.argsort()[:self.n_neighbors]\n",
    "        return (dist[indices],\n",
    "                indices)"
   ]
  },
  {
   "cell_type": "code",
   "execution_count": 46,
   "metadata": {},
   "outputs": [],
   "source": [
    "import pandas as pd\n",
    "import numpy as np\n",
    "import os\n",
    "\n",
    "train_labels = []\n",
    "test_labels = []\n",
    "train_data_raw = []\n",
    "test_data_raw = []\n",
    "\n",
    "# Utility function for normalizing numpy arrays\n",
    "def normalize(v):\n",
    "    norm = np.linalg.norm(v)\n",
    "    if norm == 0:\n",
    "        return v\n",
    "    return v / norm\n",
    "\n",
    "# Loading all data for training and testing from TXT files\n",
    "def load_data():\n",
    "    for d in os.listdir(\"data\"):\n",
    "        for f in os.listdir(os.path.join(\"data\", d)):\n",
    "            if f.startswith(\"TEST\"):\n",
    "                train_labels.append(d)\n",
    "                tr = normalize(np.ravel(pd.read_csv(os.path.join(\"data\", d, f),\n",
    "                                                    delim_whitespace=True,\n",
    "                                                    header=None)))\n",
    "                train_data_raw.append(tr)\n",
    "            else:\n",
    "                test_labels.append(d)\n",
    "                df=pd.read_csv(os.path.join(\"data\", d, f),\n",
    "                                                delim_whitespace=True,\n",
    "                                                header=None)\n",
    "                td = normalize(np.ravel(df))\n",
    "                print(td)\n",
    "                test_data_raw.append(td)"
   ]
  },
  {
   "cell_type": "code",
   "execution_count": 47,
   "metadata": {},
   "outputs": [],
   "source": [
    "def update_pickle(clf3,train_labels):\n",
    "    dir=os.path.dirname(os.path.realpath('__file__')) #getting relative path\n",
    "    dirname = os.path.join(dir,'models')\n",
    "    # print(dirname)\n",
    "    with open('DTW_model','wb') as f:\n",
    "        pickle.dump(clf3,f)\n",
    "    with open('train_labels','wb') as f:\n",
    "        pickle.dump(train_labels,f)"
   ]
  },
  {
   "cell_type": "code",
   "execution_count": 48,
   "metadata": {},
   "outputs": [
    {
     "name": "stdout",
     "output_type": "stream",
     "text": [
      "[0.03404223 0.18100501 0.16490315 0.03671104 0.17886996 0.15855731\n",
      " 0.03439807 0.17676456 0.16519969 0.02903079 0.17166416 0.17424401\n",
      " 0.02532409 0.16840226 0.17344337 0.02176567 0.16629687 0.16849123\n",
      " 0.0194527  0.16333151 0.16686028 0.01936374 0.16018824 0.17136762\n",
      " 0.01797003 0.15713393 0.16632652 0.0156867  0.15538438 0.16128543\n",
      " 0.01666527 0.15235973 0.16175989 0.01696181 0.15069912 0.16718648\n",
      " 0.01954166 0.1475262  0.17866238 0.01797003 0.14218857 0.17892927\n",
      " 0.01589428 0.13702886 0.18002644 0.01601289 0.13403385 0.19141339\n",
      " 0.01708042 0.12991201 0.20585465 0.01550878 0.12555295 0.20481677]\n",
      "[ 0.02181419  0.19226576  0.10792758  0.02373986  0.19377018  0.11316299\n",
      "  0.02542481  0.19473302  0.12832761  0.02524428  0.19325867  0.13915949\n",
      "  0.02578588  0.19009937  0.13461612  0.02349915  0.18492415  0.12892938\n",
      "  0.02049029  0.17830467  0.13458602  0.01724073  0.17189581  0.14794534\n",
      "  0.01579648  0.16380199  0.15534712  0.01474338  0.15495597  0.15053296\n",
      "  0.00992922  0.14604976  0.1611542   0.00487434  0.13888868  0.18781265\n",
      "  0.00364071  0.13341258  0.20812242  0.00168496  0.12631168  0.20670825\n",
      "  0.0036708   0.11872937  0.20821267  0.00643895  0.10964263  0.23168173\n",
      "  0.00517523  0.10007447  0.25126938 -0.0076124   0.0889718   0.23451006]\n",
      "[0.029536   0.20623862 0.10147338 0.0293246  0.20738622 0.10884228\n",
      " 0.02542875 0.20113473 0.1242143  0.02053628 0.19261823 0.12940876\n",
      " 0.0217443  0.18854117 0.12989197 0.02711997 0.18999079 0.13200599\n",
      " 0.02452273 0.18802776 0.13125099 0.0143754  0.17945085 0.13698906\n",
      " 0.01328818 0.17105513 0.14435797 0.01691223 0.16332382 0.15710254\n",
      " 0.01576461 0.15861256 0.16471304 0.00915072 0.15529052 0.1685183\n",
      " 0.00377505 0.14795181 0.18262188 0.00308044 0.14191173 0.18832976\n",
      " 0.00676489 0.1327912  0.20651041 0.01217077 0.12814035 0.21563094\n",
      " 0.01256337 0.12826115 0.21442293 0.00604008 0.12430489 0.2210972 ]\n",
      "[ 0.03609416  0.22034349  0.16557251  0.01910867  0.15294134  0.25989232\n",
      "  0.01194742  0.10396413  0.2813401   0.02198757  0.05851356  0.2980017\n",
      " -0.00705329  0.00806091  0.29159618 -0.03382703 -0.04386718  0.29674221\n",
      " -0.03674191 -0.0797814   0.29598648 -0.03814537 -0.1115932   0.26439061\n",
      " -0.05495093 -0.15074619  0.26892485 -0.06365959 -0.17906732  0.2597124\n",
      " -0.04915715 -0.17546871  0.24161135]\n"
     ]
    }
   ],
   "source": [
    "load_data()\n",
    "clf3 = KnnDtwClassifier(3)\n",
    "clf3.fit(train_data_raw, train_labels)\n",
    "update_pickle(clf3,train_labels)"
   ]
  },
  {
   "cell_type": "code",
   "execution_count": 49,
   "metadata": {},
   "outputs": [],
   "source": [
    "def open_pickle():\n",
    "    with open('DTW_model','rb') as f:\n",
    "        clf3=pickle.load(f)\n",
    "    with open('train_labels','rb') as f:\n",
    "        TL=pickle.load(f)\n",
    "        return [clf3,TL]"
   ]
  },
  {
   "cell_type": "code",
   "execution_count": 50,
   "metadata": {},
   "outputs": [
    {
     "name": "stdout",
     "output_type": "stream",
     "text": [
      "KnnDtwClassifier neighbors for top = ['bottom' 'left' 'bottom']\n",
      "KnnDtwClassifier distances to ['bottom' 'left' 'bottom'] = [2.12481937 2.52281546 3.0358696 ]\n",
      "choosing =======> bottom\n",
      "KnnDtwClassifier neighbors for top = ['bottom' 'left' 'bottom']\n",
      "KnnDtwClassifier distances to ['bottom' 'left' 'bottom'] = [1.87337145 2.60465578 2.84903565]\n",
      "choosing =======> bottom\n",
      "KnnDtwClassifier neighbors for top = ['bottom' 'left' 'bottom']\n",
      "KnnDtwClassifier distances to ['bottom' 'left' 'bottom'] = [1.53842123 2.10486484 2.48618451]\n",
      "choosing =======> bottom\n",
      "KnnDtwClassifier neighbors for top = ['bottom' 'bottom' 'bottom']\n",
      "KnnDtwClassifier distances to ['bottom' 'bottom' 'bottom'] = [1.92439724 1.93794823 2.24289277]\n",
      "choosing =======> bottom\n",
      "Wall time: 483 ms\n"
     ]
    }
   ],
   "source": [
    "t=open_pickle()\n",
    "clf3=t[0]\n",
    "def classify2():\n",
    "    for index, t in enumerate(test_data_raw):\n",
    "        res = clf3.predict_ext(t)\n",
    "        nghs = np.array(train_labels)[res[1]]\n",
    "        #chossing majority of 3\n",
    "        d=dict()\n",
    "        max=-1\n",
    "        val=\"\"\n",
    "        for i in nghs:\n",
    "            if i in d:\n",
    "                d[i]+=1\n",
    "            else:\n",
    "                d[i]=1\n",
    "            if d[i]>max:\n",
    "                max=d[i]\n",
    "                val=i\n",
    "        print(\"KnnDtwClassifier neighbors for \" + str(test_labels[index]) + \" = \" + str(nghs))\n",
    "        print(\"KnnDtwClassifier distances to \" + str(nghs) + \" = \" + str(res[0]))\n",
    "        print(\"choosing =======>\",val)\n",
    "\n",
    "%time classify2()"
   ]
  },
  {
   "cell_type": "markdown",
   "metadata": {},
   "source": [
    "# for KNN=1 uncomment"
   ]
  },
  {
   "cell_type": "code",
   "execution_count": 51,
   "metadata": {},
   "outputs": [],
   "source": [
    "# # Raw sequence labeling with KnnDtwClassifier and KNN=1\n",
    "# clf1 = KnnDtwClassifier(1)\n",
    "# clf1.fit(train_data_raw, train_labels)\n",
    "\n",
    "# for index, t in enumerate(test_data_raw):\n",
    "#     print(\"KnnDtwClassifier prediction for \" + \n",
    "#           str(test_labels[index]) + \" = \" + str(clf1.predict(t)))"
   ]
  },
  {
   "cell_type": "code",
   "execution_count": null,
   "metadata": {},
   "outputs": [],
   "source": []
  },
  {
   "cell_type": "code",
   "execution_count": null,
   "metadata": {},
   "outputs": [],
   "source": []
  },
  {
   "cell_type": "code",
   "execution_count": 52,
   "metadata": {},
   "outputs": [
    {
     "name": "stdout",
     "output_type": "stream",
     "text": [
      "[0.2825157940387726, -0.950498104095459, 10.125079154968262]\n",
      "[3.952826976776123, -0.2932897210121155, 9.527725219726562]\n",
      "[6.803123950958252, 0.5422866940498352, 8.166622161865234]\n",
      "[8.81784439086914, 2.1092917919158936, 2.5438392162323]\n",
      "[9.634267807006836, 2.738966703414917, -1.5861586332321167]\n",
      "[[0.2825157940387726, -0.950498104095459, 10.125079154968262], [3.952826976776123, -0.2932897210121155, 9.527725219726562], [6.803123950958252, 0.5422866940498352, 8.166622161865234], [8.81784439086914, 2.1092917919158936, 2.5438392162323], [9.634267807006836, 2.738966703414917, -1.5861586332321167]]\n",
      "          0         1          2\n",
      "0  0.282516 -0.950498  10.125079\n",
      "1  3.952827 -0.293290   9.527725\n",
      "2  6.803124  0.542287   8.166622\n",
      "3  8.817844  2.109292   2.543839\n",
      "4  9.634268  2.738967  -1.586159\n"
     ]
    }
   ],
   "source": [
    "data_predict=['0.2825157940387726 -0.950498104095459 10.125079154968262', '3.952826976776123 -0.2932897210121155 9.527725219726562', '6.803123950958252 0.5422866940498352 8.166622161865234', '8.81784439086914 2.1092917919158936 2.5438392162323', '9.634267807006836 2.738966703414917 -1.5861586332321167']\n",
    "arr=list()\n",
    "import pandas as pd\n",
    "for i in data_predict:\n",
    "    x=list(map(float,i.split()))\n",
    "    print(x)\n",
    "    arr.append(x)\n",
    "print(arr)\n",
    "df=pd.DataFrame(arr)\n",
    "print(df)"
   ]
  },
  {
   "cell_type": "code",
   "execution_count": 53,
   "metadata": {},
   "outputs": [
    {
     "name": "stdout",
     "output_type": "stream",
     "text": [
      "[ 0.01245191 -0.04189328  0.44626363  0.17422115 -0.01292677  0.41993521\n",
      "  0.29984821  0.02390133  0.35994449  0.38864716  0.0929672   0.11211991\n",
      "  0.42463109  0.12072017 -0.06991006]\n"
     ]
    }
   ],
   "source": [
    "td = normalize(np.ravel(df))\n",
    "print(td)"
   ]
  },
  {
   "cell_type": "code",
   "execution_count": 55,
   "metadata": {},
   "outputs": [
    {
     "name": "stdout",
     "output_type": "stream",
     "text": [
      "KnnDtwClassifier neighbors for  = ['left' 'left' 'top']\n",
      "KnnDtwClassifier distances to ['left' 'left' 'top'] = [1.42352399 1.62954169 1.76674948]\n",
      "choosing =======> left\n"
     ]
    }
   ],
   "source": [
    "res = clf3.predict_ext(td)\n",
    "nghs = np.array(train_labels)[res[1]]\n",
    "#chossing majority of 3\n",
    "d=dict()\n",
    "max=-1\n",
    "val=\"\"\n",
    "for i in nghs:\n",
    "    if i in d:\n",
    "        d[i]+=1\n",
    "    else:\n",
    "        d[i]=1\n",
    "    if d[i]>max:\n",
    "        max=d[i]\n",
    "        val=i\n",
    "print(\"KnnDtwClassifier neighbors for \" + \" = \" + str(nghs))\n",
    "print(\"KnnDtwClassifier distances to \" + str(nghs) + \" = \" + str(res[0]))\n",
    "print(\"choosing =======>\",val)"
   ]
  },
  {
   "cell_type": "code",
   "execution_count": null,
   "metadata": {},
   "outputs": [],
   "source": []
  }
 ],
 "metadata": {
  "kernelspec": {
   "display_name": "Python 3.7.3 64-bit",
   "language": "python",
   "name": "python37364bit4b425903f17049189d9a0ba7edd8a384"
  },
  "language_info": {
   "codemirror_mode": {
    "name": "ipython",
    "version": 3
   },
   "file_extension": ".py",
   "mimetype": "text/x-python",
   "name": "python",
   "nbconvert_exporter": "python",
   "pygments_lexer": "ipython3",
   "version": "3.7.3"
  }
 },
 "nbformat": 4,
 "nbformat_minor": 2
}

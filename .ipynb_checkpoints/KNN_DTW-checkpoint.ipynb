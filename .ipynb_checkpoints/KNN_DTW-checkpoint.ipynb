{
 "cells": [
  {
   "cell_type": "code",
   "execution_count": 1,
   "metadata": {},
   "outputs": [],
   "source": [
    "import numpy as np\n",
    "from fastdtw import fastdtw\n",
    "from sklearn.base import BaseEstimator, ClassifierMixin"
   ]
  },
  {
   "cell_type": "code",
   "execution_count": 2,
   "metadata": {},
   "outputs": [],
   "source": [
    "class KnnDtwClassifier(BaseEstimator, ClassifierMixin):\n",
    "    \"\"\"pehle DTW laga kr distance nikaal re\n",
    "    fir dekhre ki konsa sbse paas hai using k nearest neighbour\n",
    "    mai personally 3 nearest neighbour nikaal kr usme nearest na dekh k majority pick kr raha\n",
    "    fastdtw use kar re kyuki??? obviously wo fast hai isliye...\n",
    "    pip install fastdtw\n",
    "    or if we dont want fast then\n",
    "    pip install dtw-python\n",
    "    \"\"\"\n",
    "    def __init__(self, n_neighbors=1):\n",
    "        self.n_neighbors = n_neighbors\n",
    "        self.features = []\n",
    "        self.labels = []\n",
    "\n",
    "    def get_distance(self, x, y):\n",
    "        return fastdtw(x, y)[0]\n",
    "\n",
    "    def fit(self, X, y=None):\n",
    "        for index, l in enumerate(y):\n",
    "            self.features.append(X[index])\n",
    "            self.labels.append(l)\n",
    "        return self\n",
    "\n",
    "    def predict(self, X):\n",
    "        dist = np.array([self.get_distance(X, seq) for seq in self.features])\n",
    "        indices = dist.argsort()[:self.n_neighbors]\n",
    "        return np.array(self.labels)[indices]\n",
    "\n",
    "    def predict_ext(self, X):\n",
    "        dist = np.array([self.get_distance(X, seq) for seq in self.features])\n",
    "        indices = dist.argsort()[:self.n_neighbors]\n",
    "        return (dist[indices],\n",
    "                indices)"
   ]
  },
  {
   "cell_type": "code",
   "execution_count": 3,
   "metadata": {},
   "outputs": [],
   "source": [
    "import pandas as pd\n",
    "import numpy as np\n",
    "import os\n",
    "\n",
    "train_labels = []\n",
    "test_labels = []\n",
    "train_data_raw = []\n",
    "train_data_hist = []\n",
    "test_data_raw = []\n",
    "test_data_hist = []\n",
    "\n",
    "# Utility function for normalizing numpy arrays\n",
    "def normalize(v):\n",
    "    norm = np.linalg.norm(v)\n",
    "    if norm == 0:\n",
    "        return v\n",
    "    return v / norm\n",
    "\n",
    "# Loading all data for training and testing from TXT files\n",
    "def load_data():\n",
    "    for d in os.listdir(\"data\"):\n",
    "        for f in os.listdir(os.path.join(\"data\", d)):\n",
    "            if f.startswith(\"TEST\"):\n",
    "                train_labels.append(d)\n",
    "                tr = normalize(np.ravel(pd.read_csv(os.path.join(\"data\", d, f),\n",
    "                                                    delim_whitespace=True,\n",
    "                                                    header=None)))\n",
    "                train_data_raw.append(tr)\n",
    "                train_data_hist.append(np.histogram(tr, bins=20)[0])\n",
    "            else:\n",
    "                test_labels.append(d)\n",
    "                td = normalize(np.ravel(pd.read_csv(os.path.join(\"data\", d, f),\n",
    "                                                delim_whitespace=True,\n",
    "                                                header=None)))\n",
    "                test_data_raw.append(td)\n",
    "                test_data_hist.append(np.histogram(td, bins=20)[0])"
   ]
  },
  {
   "cell_type": "code",
   "execution_count": 4,
   "metadata": {},
   "outputs": [],
   "source": [
    "load_data()"
   ]
  },
  {
   "cell_type": "code",
   "execution_count": 5,
   "metadata": {},
   "outputs": [
    {
     "name": "stdout",
     "output_type": "stream",
     "text": [
      "KnnDtwClassifier prediction for top = ['bottom']\n",
      "KnnDtwClassifier prediction for top = ['bottom']\n",
      "KnnDtwClassifier prediction for top = ['bottom']\n",
      "KnnDtwClassifier prediction for top = ['bottom']\n"
     ]
    }
   ],
   "source": [
    "# Raw sequence labeling with KnnDtwClassifier and KNN=1\n",
    "clf1 = KnnDtwClassifier(1)\n",
    "clf1.fit(train_data_raw, train_labels)\n",
    "\n",
    "for index, t in enumerate(test_data_raw):\n",
    "    print(\"KnnDtwClassifier prediction for \" + \n",
    "          str(test_labels[index]) + \" = \" + str(clf1.predict(t)))"
   ]
  },
  {
   "cell_type": "code",
   "execution_count": 6,
   "metadata": {},
   "outputs": [
    {
     "name": "stdout",
     "output_type": "stream",
     "text": [
      "KnnDtwClassifier neighbors for top = ['bottom' 'left' 'bottom']\n",
      "KnnDtwClassifier distances to ['bottom' 'left' 'bottom'] = [2.12481937 2.52281546 3.0358696 ]\n",
      "choosing =======> bottom\n",
      "KnnDtwClassifier neighbors for top = ['bottom' 'left' 'bottom']\n",
      "KnnDtwClassifier distances to ['bottom' 'left' 'bottom'] = [1.87337145 2.60465578 2.84903565]\n",
      "choosing =======> bottom\n",
      "KnnDtwClassifier neighbors for top = ['bottom' 'left' 'bottom']\n",
      "KnnDtwClassifier distances to ['bottom' 'left' 'bottom'] = [1.53842123 2.10486484 2.48618451]\n",
      "choosing =======> bottom\n",
      "KnnDtwClassifier neighbors for top = ['bottom' 'bottom' 'bottom']\n",
      "KnnDtwClassifier distances to ['bottom' 'bottom' 'bottom'] = [1.92439724 1.93794823 2.24289277]\n",
      "choosing =======> bottom\n",
      "Wall time: 529 ms\n"
     ]
    }
   ],
   "source": [
    "clf2 = KnnDtwClassifier(3)\n",
    "clf2.fit(train_data_raw, train_labels)\n",
    "\n",
    "def classify2():\n",
    "    for index, t in enumerate(test_data_raw):\n",
    "        res = clf2.predict_ext(t)\n",
    "        nghs = np.array(train_labels)[res[1]]\n",
    "        #chossing majority of 3\n",
    "        d=dict()\n",
    "        max=-1\n",
    "        val=\"\"\n",
    "        for i in nghs:\n",
    "            if i in d:\n",
    "                d[i]+=1\n",
    "            else:\n",
    "                d[i]=1\n",
    "            if d[i]>max:\n",
    "                max=d[i]\n",
    "                val=i\n",
    "        print(\"KnnDtwClassifier neighbors for \" + str(test_labels[index]) + \" = \" + str(nghs))\n",
    "        print(\"KnnDtwClassifier distances to \" + str(nghs) + \" = \" + str(res[0]))\n",
    "        print(\"choosing =======>\",val)\n",
    "\n",
    "%time classify2()"
   ]
  },
  {
   "cell_type": "code",
   "execution_count": null,
   "metadata": {},
   "outputs": [],
   "source": []
  }
 ],
 "metadata": {
  "kernelspec": {
   "display_name": "Python 3.7.3 64-bit",
   "language": "python",
   "name": "python37364bit4b425903f17049189d9a0ba7edd8a384"
  },
  "language_info": {
   "codemirror_mode": {
    "name": "ipython",
    "version": 3
   },
   "file_extension": ".py",
   "mimetype": "text/x-python",
   "name": "python",
   "nbconvert_exporter": "python",
   "pygments_lexer": "ipython3",
   "version": "3.7.3"
  }
 },
 "nbformat": 4,
 "nbformat_minor": 2
}
